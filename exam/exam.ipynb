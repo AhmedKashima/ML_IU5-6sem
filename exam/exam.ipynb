{
 "cells": [
  {
   "cell_type": "code",
   "execution_count": 8,
   "metadata": {
    "id": "E1f4bfd1_qsn"
   },
   "outputs": [],
   "source": [
    "import sys\n",
    "sys.path.append(\"/home/ahmedkashima/venv/lib/python3.12/site-packages\")\n",
    "import pandas as pd\n",
    "import numpy as np\n",
    "from sklearn.linear_model import LinearRegression, Ridge\n",
    "from sklearn.model_selection import cross_val_score\n",
    "from sklearn.preprocessing import PolynomialFeatures, StandardScaler\n",
    "from sklearn.pipeline import make_pipeline, Pipeline"
   ]
  },
  {
   "cell_type": "code",
   "execution_count": 9,
   "metadata": {
    "id": "vSZDIgpS_rjQ"
   },
   "outputs": [],
   "source": [
    "df = pd.read_csv(\"dataset_04.csv\", sep=';')\n",
    "X = df[['x1', 'x2', 'x3']]\n",
    "y = df['y']"
   ]
  },
  {
   "cell_type": "code",
   "execution_count": 10,
   "metadata": {
    "id": "V8dLOM9Q_1Bd"
   },
   "outputs": [],
   "source": [
    "lr_scores = -cross_val_score(LinearRegression(), X, y, cv=5, scoring='neg_max_error')\n",
    "lr_mean = np.mean(lr_scores)"
   ]
  },
  {
   "cell_type": "code",
   "execution_count": 11,
   "metadata": {
    "id": "c0yyQPFy_1_G"
   },
   "outputs": [],
   "source": [
    "poly_model = make_pipeline(PolynomialFeatures(degree=2, include_bias=False), LinearRegression())\n",
    "poly_scores = -cross_val_score(poly_model, X, y, cv=5, scoring='neg_max_error')\n",
    "poly_mean = np.mean(poly_scores)"
   ]
  },
  {
   "cell_type": "code",
   "execution_count": 12,
   "metadata": {
    "id": "t20LcxoG__fs"
   },
   "outputs": [],
   "source": [
    "ridge_model = Ridge(alpha=1.0)\n",
    "ridge_scores = -cross_val_score(ridge_model, X, y, cv=5, scoring='neg_max_error')\n",
    "ridge_mean = np.mean(ridge_scores)"
   ]
  },
  {
   "cell_type": "code",
   "execution_count": 13,
   "metadata": {
    "id": "sIrXXqewABk0"
   },
   "outputs": [],
   "source": [
    "scaled_model = Pipeline([\n",
    "    ('scaler', StandardScaler()),\n",
    "    ('regressor', LinearRegression())\n",
    "])\n",
    "scaled_scores = -cross_val_score(scaled_model, X, y, cv=5, scoring='neg_max_error')\n",
    "scaled_mean = np.mean(scaled_scores)"
   ]
  },
  {
   "cell_type": "code",
   "execution_count": 14,
   "metadata": {
    "colab": {
     "base_uri": "https://localhost:8080/"
    },
    "id": "Y3JvG4R5AC7j",
    "outputId": "cbe2dc98-3f58-4d23-abfb-2094dabc0ee1"
   },
   "outputs": [
    {
     "name": "stdout",
     "output_type": "stream",
     "text": [
      "Среднее значение max_error для разных моделей:\n",
      "1. Linear Regression:         0.27546\n",
      "2. Polynomial Regression:     0.32173\n",
      "3. Ridge Regression:          0.28733\n",
      "4. Scaled Linear Regression:  0.27546\n"
     ]
    }
   ],
   "source": [
    "print(\"Среднее значение max_error для разных моделей:\")\n",
    "print(f\"1. Linear Regression:         {lr_mean:.5f}\")\n",
    "print(f\"2. Polynomial Regression:     {poly_mean:.5f}\")\n",
    "print(f\"3. Ridge Regression:          {ridge_mean:.5f}\")\n",
    "print(f\"4. Scaled Linear Regression:  {scaled_mean:.5f}\")"
   ]
  }
 ],
 "metadata": {
  "colab": {
   "provenance": []
  },
  "kernelspec": {
   "display_name": "Python 3 (ipykernel)",
   "language": "python",
   "name": "python3"
  },
  "language_info": {
   "codemirror_mode": {
    "name": "ipython",
    "version": 3
   },
   "file_extension": ".py",
   "mimetype": "text/x-python",
   "name": "python",
   "nbconvert_exporter": "python",
   "pygments_lexer": "ipython3",
   "version": "3.12.3"
  }
 },
 "nbformat": 4,
 "nbformat_minor": 1
}
