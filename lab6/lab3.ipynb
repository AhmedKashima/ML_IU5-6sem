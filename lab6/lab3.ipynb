{
 "cells": [
  {
   "cell_type": "code",
   "execution_count": 3,
   "metadata": {
    "colab": {
     "base_uri": "https://localhost:8080/"
    },
    "id": "8J1YK58fQG0t",
    "outputId": "76ab6eb3-945d-4342-b08e-8dae0b24efff"
   },
   "outputs": [
    {
     "name": "stdout",
     "output_type": "stream",
     "text": [
      "Collecting gmdh\n",
      "  Using cached gmdh-1.0.3.tar.gz (14.4 MB)\n",
      "  Preparing metadata (setup.py) ... \u001b[?25ldone\n",
      "\u001b[?25hCollecting docstring_inheritance (from gmdh)\n",
      "  Using cached docstring_inheritance-2.2.2-py3-none-any.whl.metadata (11 kB)\n",
      "Requirement already satisfied: numpy in /home/ahmedkashima/venv/lib/python3.12/site-packages (from gmdh) (1.26.4)\n",
      "Using cached docstring_inheritance-2.2.2-py3-none-any.whl (24 kB)\n",
      "Building wheels for collected packages: gmdh\n",
      "\u001b[33m  DEPRECATION: Building 'gmdh' using the legacy setup.py bdist_wheel mechanism, which will be removed in a future version. pip 25.3 will enforce this behaviour change. A possible replacement is to use the standardized build interface by setting the `--use-pep517` option, (possibly combined with `--no-build-isolation`), or adding a `pyproject.toml` file to the source tree of 'gmdh'. Discussion can be found at https://github.com/pypa/pip/issues/6334\u001b[0m\u001b[33m\n",
      "\u001b[0m  Building wheel for gmdh (setup.py) ... \u001b[?25lerror\n",
      "  \u001b[1;31merror\u001b[0m: \u001b[1msubprocess-exited-with-error\u001b[0m\n",
      "  \n",
      "  \u001b[31m×\u001b[0m \u001b[32mpython setup.py bdist_wheel\u001b[0m did not run successfully.\n",
      "  \u001b[31m│\u001b[0m exit code: \u001b[1;36m1\u001b[0m\n",
      "  \u001b[31m╰─>\u001b[0m \u001b[31m[101 lines of output]\u001b[0m\n",
      "  \u001b[31m   \u001b[0m /home/ahmedkashima/venv/lib/python3.12/site-packages/setuptools/dist.py:759: SetuptoolsDeprecationWarning: License classifiers are deprecated.\n",
      "  \u001b[31m   \u001b[0m !!\n",
      "  \u001b[31m   \u001b[0m \n",
      "  \u001b[31m   \u001b[0m         ********************************************************************************\n",
      "  \u001b[31m   \u001b[0m         Please consider removing the following classifiers in favor of a SPDX license expression:\n",
      "  \u001b[31m   \u001b[0m \n",
      "  \u001b[31m   \u001b[0m         License :: OSI Approved :: Apache Software License\n",
      "  \u001b[31m   \u001b[0m \n",
      "  \u001b[31m   \u001b[0m         See https://packaging.python.org/en/latest/guides/writing-pyproject-toml/#license for details.\n",
      "  \u001b[31m   \u001b[0m         ********************************************************************************\n",
      "  \u001b[31m   \u001b[0m \n",
      "  \u001b[31m   \u001b[0m !!\n",
      "  \u001b[31m   \u001b[0m   self._finalize_license_expression()\n",
      "  \u001b[31m   \u001b[0m running bdist_wheel\n",
      "  \u001b[31m   \u001b[0m running build\n",
      "  \u001b[31m   \u001b[0m running build_py\n",
      "  \u001b[31m   \u001b[0m creating build/lib.linux-x86_64-cpython-312/gmdh\n",
      "  \u001b[31m   \u001b[0m copying gmdh/gmdh.py -> build/lib.linux-x86_64-cpython-312/gmdh\n",
      "  \u001b[31m   \u001b[0m copying gmdh/version.py -> build/lib.linux-x86_64-cpython-312/gmdh\n",
      "  \u001b[31m   \u001b[0m copying gmdh/__init__.py -> build/lib.linux-x86_64-cpython-312/gmdh\n",
      "  \u001b[31m   \u001b[0m running egg_info\n",
      "  \u001b[31m   \u001b[0m writing gmdh.egg-info/PKG-INFO\n",
      "  \u001b[31m   \u001b[0m writing dependency_links to gmdh.egg-info/dependency_links.txt\n",
      "  \u001b[31m   \u001b[0m writing requirements to gmdh.egg-info/requires.txt\n",
      "  \u001b[31m   \u001b[0m writing top-level names to gmdh.egg-info/top_level.txt\n",
      "  \u001b[31m   \u001b[0m reading manifest file 'gmdh.egg-info/SOURCES.txt'\n",
      "  \u001b[31m   \u001b[0m reading manifest template 'MANIFEST.in'\n",
      "  \u001b[31m   \u001b[0m adding license file 'LICENSE.md'\n",
      "  \u001b[31m   \u001b[0m writing manifest file 'gmdh.egg-info/SOURCES.txt'\n",
      "  \u001b[31m   \u001b[0m running build_ext\n",
      "  \u001b[31m   \u001b[0m -- The C compiler identification is GNU 13.3.0\n",
      "  \u001b[31m   \u001b[0m -- The CXX compiler identification is GNU 13.3.0\n",
      "  \u001b[31m   \u001b[0m -- Detecting C compiler ABI info\n",
      "  \u001b[31m   \u001b[0m -- Detecting C compiler ABI info - done\n",
      "  \u001b[31m   \u001b[0m -- Check for working C compiler: /usr/bin/cc - skipped\n",
      "  \u001b[31m   \u001b[0m -- Detecting C compile features\n",
      "  \u001b[31m   \u001b[0m -- Detecting C compile features - done\n",
      "  \u001b[31m   \u001b[0m -- Detecting CXX compiler ABI info\n",
      "  \u001b[31m   \u001b[0m -- Detecting CXX compiler ABI info - done\n",
      "  \u001b[31m   \u001b[0m -- Check for working CXX compiler: /usr/bin/c++ - skipped\n",
      "  \u001b[31m   \u001b[0m -- Detecting CXX compile features\n",
      "  \u001b[31m   \u001b[0m -- Detecting CXX compile features - done\n",
      "  \u001b[31m   \u001b[0m -- Found Threads: TRUE\n",
      "  \u001b[31m   \u001b[0m \u001b[31mCMake Error at /usr/share/cmake-3.28/Modules/FindPackageHandleStandardArgs.cmake:230 (message):\n",
      "  \u001b[31m   \u001b[0m   Could NOT find Boost (missing: Boost_INCLUDE_DIR system thread filesystem\n",
      "  \u001b[31m   \u001b[0m   json chrono) (Required is at least version \"1.79.0\")\n",
      "  \u001b[31m   \u001b[0m Call Stack (most recent call first):\n",
      "  \u001b[31m   \u001b[0m   /usr/share/cmake-3.28/Modules/FindPackageHandleStandardArgs.cmake:600 (_FPHSA_FAILURE_MESSAGE)\n",
      "  \u001b[31m   \u001b[0m   /usr/share/cmake-3.28/Modules/FindBoost.cmake:2393 (find_package_handle_standard_args)\n",
      "  \u001b[31m   \u001b[0m   CMakeLists.txt:42 (find_package)\n",
      "  \u001b[31m   \u001b[0m \n",
      "  \u001b[31m   \u001b[0m \u001b[0m\n",
      "  \u001b[31m   \u001b[0m -- Configuring incomplete, errors occurred!\n",
      "  \u001b[31m   \u001b[0m Traceback (most recent call last):\n",
      "  \u001b[31m   \u001b[0m   File \"<string>\", line 2, in <module>\n",
      "  \u001b[31m   \u001b[0m   File \"<pip-setuptools-caller>\", line 35, in <module>\n",
      "  \u001b[31m   \u001b[0m   File \"/tmp/pip-install-6v1l5ttx/gmdh_95072df37177474e94ed48fe3028a48e/setup.py\", line 51, in <module>\n",
      "  \u001b[31m   \u001b[0m     setup(\n",
      "  \u001b[31m   \u001b[0m   File \"/home/ahmedkashima/venv/lib/python3.12/site-packages/setuptools/__init__.py\", line 117, in setup\n",
      "  \u001b[31m   \u001b[0m     return distutils.core.setup(**attrs)\n",
      "  \u001b[31m   \u001b[0m            ^^^^^^^^^^^^^^^^^^^^^^^^^^^^^\n",
      "  \u001b[31m   \u001b[0m   File \"/home/ahmedkashima/venv/lib/python3.12/site-packages/setuptools/_distutils/core.py\", line 186, in setup\n",
      "  \u001b[31m   \u001b[0m     return run_commands(dist)\n",
      "  \u001b[31m   \u001b[0m            ^^^^^^^^^^^^^^^^^^\n",
      "  \u001b[31m   \u001b[0m   File \"/home/ahmedkashima/venv/lib/python3.12/site-packages/setuptools/_distutils/core.py\", line 202, in run_commands\n",
      "  \u001b[31m   \u001b[0m     dist.run_commands()\n",
      "  \u001b[31m   \u001b[0m   File \"/home/ahmedkashima/venv/lib/python3.12/site-packages/setuptools/_distutils/dist.py\", line 1002, in run_commands\n",
      "  \u001b[31m   \u001b[0m     self.run_command(cmd)\n",
      "  \u001b[31m   \u001b[0m   File \"/home/ahmedkashima/venv/lib/python3.12/site-packages/setuptools/dist.py\", line 1104, in run_command\n",
      "  \u001b[31m   \u001b[0m     super().run_command(command)\n",
      "  \u001b[31m   \u001b[0m   File \"/home/ahmedkashima/venv/lib/python3.12/site-packages/setuptools/_distutils/dist.py\", line 1021, in run_command\n",
      "  \u001b[31m   \u001b[0m     cmd_obj.run()\n",
      "  \u001b[31m   \u001b[0m   File \"/home/ahmedkashima/venv/lib/python3.12/site-packages/setuptools/command/bdist_wheel.py\", line 370, in run\n",
      "  \u001b[31m   \u001b[0m     self.run_command(\"build\")\n",
      "  \u001b[31m   \u001b[0m   File \"/home/ahmedkashima/venv/lib/python3.12/site-packages/setuptools/_distutils/cmd.py\", line 357, in run_command\n",
      "  \u001b[31m   \u001b[0m     self.distribution.run_command(command)\n",
      "  \u001b[31m   \u001b[0m   File \"/home/ahmedkashima/venv/lib/python3.12/site-packages/setuptools/dist.py\", line 1104, in run_command\n",
      "  \u001b[31m   \u001b[0m     super().run_command(command)\n",
      "  \u001b[31m   \u001b[0m   File \"/home/ahmedkashima/venv/lib/python3.12/site-packages/setuptools/_distutils/dist.py\", line 1021, in run_command\n",
      "  \u001b[31m   \u001b[0m     cmd_obj.run()\n",
      "  \u001b[31m   \u001b[0m   File \"/home/ahmedkashima/venv/lib/python3.12/site-packages/setuptools/_distutils/command/build.py\", line 135, in run\n",
      "  \u001b[31m   \u001b[0m     self.run_command(cmd_name)\n",
      "  \u001b[31m   \u001b[0m   File \"/home/ahmedkashima/venv/lib/python3.12/site-packages/setuptools/_distutils/cmd.py\", line 357, in run_command\n",
      "  \u001b[31m   \u001b[0m     self.distribution.run_command(command)\n",
      "  \u001b[31m   \u001b[0m   File \"/home/ahmedkashima/venv/lib/python3.12/site-packages/setuptools/dist.py\", line 1104, in run_command\n",
      "  \u001b[31m   \u001b[0m     super().run_command(command)\n",
      "  \u001b[31m   \u001b[0m   File \"/home/ahmedkashima/venv/lib/python3.12/site-packages/setuptools/_distutils/dist.py\", line 1021, in run_command\n",
      "  \u001b[31m   \u001b[0m     cmd_obj.run()\n",
      "  \u001b[31m   \u001b[0m   File \"/home/ahmedkashima/venv/lib/python3.12/site-packages/setuptools/command/build_ext.py\", line 99, in run\n",
      "  \u001b[31m   \u001b[0m     _build_ext.run(self)\n",
      "  \u001b[31m   \u001b[0m   File \"/home/ahmedkashima/venv/lib/python3.12/site-packages/setuptools/_distutils/command/build_ext.py\", line 368, in run\n",
      "  \u001b[31m   \u001b[0m     self.build_extensions()\n",
      "  \u001b[31m   \u001b[0m   File \"/home/ahmedkashima/venv/lib/python3.12/site-packages/setuptools/_distutils/command/build_ext.py\", line 484, in build_extensions\n",
      "  \u001b[31m   \u001b[0m     self._build_extensions_serial()\n",
      "  \u001b[31m   \u001b[0m   File \"/home/ahmedkashima/venv/lib/python3.12/site-packages/setuptools/_distutils/command/build_ext.py\", line 510, in _build_extensions_serial\n",
      "  \u001b[31m   \u001b[0m     self.build_extension(ext)\n",
      "  \u001b[31m   \u001b[0m   File \"/tmp/pip-install-6v1l5ttx/gmdh_95072df37177474e94ed48fe3028a48e/setup.py\", line 28, in build_extension\n",
      "  \u001b[31m   \u001b[0m     subprocess.run([\"cmake\", \"-DCMAKE_BUILD_TYPE=Release\", \"-S\", \".\", \"-B\", build_temp_str],\n",
      "  \u001b[31m   \u001b[0m   File \"/usr/lib/python3.12/subprocess.py\", line 571, in run\n",
      "  \u001b[31m   \u001b[0m     raise CalledProcessError(retcode, process.args,\n",
      "  \u001b[31m   \u001b[0m subprocess.CalledProcessError: Command '['cmake', '-DCMAKE_BUILD_TYPE=Release', '-S', '.', '-B', 'build/temp.linux-x86_64-cpython-312/_gmdh_core']' returned non-zero exit status 1.\n",
      "  \u001b[31m   \u001b[0m \u001b[31m[end of output]\u001b[0m\n",
      "  \n",
      "  \u001b[1;35mnote\u001b[0m: This error originates from a subprocess, and is likely not a problem with pip.\n",
      "\u001b[31m  ERROR: Failed building wheel for gmdh\u001b[0m\u001b[31m\n",
      "\u001b[0m\u001b[?25h  Running setup.py clean for gmdh\n"
     ]
    },
    {
     "name": "stdout",
     "output_type": "stream",
     "text": [
      "Failed to build gmdh\n",
      "\u001b[31mERROR: Failed to build installable wheels for some pyproject.toml based projects (gmdh)\u001b[0m\u001b[31m\n",
      "\u001b[0m"
     ]
    },
    {
     "ename": "ModuleNotFoundError",
     "evalue": "No module named 'gmdh'",
     "output_type": "error",
     "traceback": [
      "\u001b[0;31m---------------------------------------------------------------------------\u001b[0m",
      "\u001b[0;31mModuleNotFoundError\u001b[0m                       Traceback (most recent call last)",
      "Cell \u001b[0;32mIn[3], line 13\u001b[0m\n\u001b[1;32m     11\u001b[0m \u001b[38;5;28;01mfrom\u001b[39;00m \u001b[38;5;21;01msklearn\u001b[39;00m\u001b[38;5;21;01m.\u001b[39;00m\u001b[38;5;21;01mlinear_model\u001b[39;00m \u001b[38;5;28;01mimport\u001b[39;00m LogisticRegression\n\u001b[1;32m     12\u001b[0m \u001b[38;5;28;01mfrom\u001b[39;00m \u001b[38;5;21;01msklearn\u001b[39;00m\u001b[38;5;21;01m.\u001b[39;00m\u001b[38;5;21;01mtree\u001b[39;00m \u001b[38;5;28;01mimport\u001b[39;00m DecisionTreeClassifier\n\u001b[0;32m---> 13\u001b[0m \u001b[38;5;28;01mimport\u001b[39;00m \u001b[38;5;21;01mgmdh\u001b[39;00m\n\u001b[1;32m     14\u001b[0m \u001b[38;5;28;01mfrom\u001b[39;00m \u001b[38;5;21;01msklearn\u001b[39;00m\u001b[38;5;21;01m.\u001b[39;00m\u001b[38;5;21;01mmetrics\u001b[39;00m \u001b[38;5;28;01mimport\u001b[39;00m mean_squared_error\n",
      "\u001b[0;31mModuleNotFoundError\u001b[0m: No module named 'gmdh'"
     ]
    }
   ],
   "source": [
    "\n",
    "import sys\n",
    "sys.path.append(\"/home/ahmedkashima/venv/lib/python3.12/site-packages\")\n",
    "!pip install gmdh\n",
    "import numpy as np\n",
    "import pandas as pd\n",
    "from sklearn.model_selection import train_test_split\n",
    "from sklearn.preprocessing import StandardScaler, LabelEncoder\n",
    "from sklearn.metrics import accuracy_score\n",
    "from sklearn.neural_network import MLPClassifier\n",
    "from sklearn.ensemble import StackingClassifier\n",
    "from sklearn.linear_model import LogisticRegression\n",
    "from sklearn.tree import DecisionTreeClassifier\n",
    "import gmdh\n",
    "from sklearn.metrics import mean_squared_error"
   ]
  },
  {
   "cell_type": "code",
   "execution_count": null,
   "metadata": {
    "colab": {
     "base_uri": "https://localhost:8080/"
    },
    "id": "GkyTc-DSQWxI",
    "outputId": "48b41c23-6803-47b5-bded-d59a8871f2f0"
   },
   "outputs": [],
   "source": [
    "df=pd.read_csv('breast-cancer.csv',sep=\",\")"
   ]
  },
  {
   "cell_type": "code",
   "execution_count": null,
   "metadata": {
    "colab": {
     "base_uri": "https://localhost:8080/",
     "height": 307
    },
    "id": "ZpjRdXZJQXV_",
    "outputId": "ea630966-6ada-40e3-8b84-b2fe4f927858"
   },
   "outputs": [],
   "source": [
    "data.head()"
   ]
  },
  {
   "cell_type": "code",
   "execution_count": null,
   "metadata": {
    "colab": {
     "base_uri": "https://localhost:8080/"
    },
    "id": "X9DUmlLbQagJ",
    "outputId": "036d3f9a-c0f5-4abc-a02a-47d70fb8342c"
   },
   "outputs": [],
   "source": [
    "data.shape"
   ]
  },
  {
   "cell_type": "markdown",
   "metadata": {
    "id": "FYBlG2moQhIn"
   },
   "source": [
    "Проверка на пропуски в датасете"
   ]
  },
  {
   "cell_type": "code",
   "execution_count": null,
   "metadata": {
    "colab": {
     "base_uri": "https://localhost:8080/"
    },
    "id": "ETA5vnAiQkeL",
    "outputId": "c7462a00-cf3a-4277-d7d9-627985f5e7c6"
   },
   "outputs": [],
   "source": [
    "data.isna().sum()"
   ]
  },
  {
   "cell_type": "markdown",
   "metadata": {
    "id": "JJY33vdQQwZ_"
   },
   "source": [
    "Разделим датасет на обучающую и тестовую выборку"
   ]
  },
  {
   "cell_type": "code",
   "execution_count": null,
   "metadata": {
    "colab": {
     "base_uri": "https://localhost:8080/"
    },
    "id": "SK8P9bYnQ4E6",
    "outputId": "5e74cc10-ea6e-4540-f636-e3f534bd9c7e"
   },
   "outputs": [],
   "source": [
    "label_encoder = LabelEncoder()\n",
    "df['diagnosis'] = label_encoder.fit_transform(df['diagnosis'])"
   ]
  },
  {
   "cell_type": "code",
   "execution_count": null,
   "metadata": {
    "colab": {
     "base_uri": "https://localhost:8080/"
    },
    "id": "VpWoZqOGSFUu",
    "outputId": "c3e2afc0-9f7c-4296-d395-852b2f31de0d"
   },
   "outputs": [],
   "source": [
    "# Разделяем датасет на признаки и целевую переменную\n",
    "X = df.drop('diagnosis', axis=1)\n",
    "y = df['diagnosis']"
   ]
  },
  {
   "cell_type": "code",
   "execution_count": null,
   "metadata": {
    "colab": {
     "base_uri": "https://localhost:8080/"
    },
    "id": "TirSTYLTSI9e",
    "outputId": "446bde7b-921e-4fee-85fb-1e4df9da404f"
   },
   "outputs": [],
   "source": [
    "# Нормализация данных\n",
    "scaler = StandardScaler()\n",
    "X_scaled = scaler.fit_transform(X)"
   ]
  },
  {
   "cell_type": "code",
   "execution_count": null,
   "metadata": {
    "colab": {
     "base_uri": "https://localhost:8080/"
    },
    "id": "nd4DHvUaShGK",
    "outputId": "e10822ef-168d-476f-acaa-c7bfeee7b36e"
   },
   "outputs": [],
   "source": [
    "X_train, X_test, y_train, y_test = train_test_split(X_scaled, y, test_size=0.2, random_state=42)"
   ]
  },
  {
   "cell_type": "code",
   "execution_count": null,
   "metadata": {
    "colab": {
     "base_uri": "https://localhost:8080/",
     "height": 547
    },
    "id": "NhSPzpZxWzJa",
    "outputId": "7d474fd7-6798-4e89-925e-1b59e417ba4d"
   },
   "outputs": [],
   "source": [
    "# Обучение модели стекинга\n",
    "base_estimators = [\n",
    "    ('dt', DecisionTreeClassifier(max_depth=3, random_state=42)),\n",
    "    ('mlp', MLPClassifier(random_state=42))\n",
    "]\n",
    "stacking_model = StackingClassifier(estimators=base_estimators, final_estimator=LogisticRegression())\n",
    "stacking_model.fit(X_train, y_train)"
   ]
  },
  {
   "cell_type": "code",
   "execution_count": null,
   "metadata": {
    "colab": {
     "base_uri": "https://localhost:8080/",
     "height": 164
    },
    "id": "SS7D_R_sXAn6",
    "outputId": "6852c961-ce98-4cbc-9921-69a3194c8fcb"
   },
   "outputs": [],
   "source": [
    "# Обучение модели многослойного персептрона\n",
    "mlp_model = MLPClassifier(random_state=42)\n",
    "mlp_model.fit(X_train, y_train)"
   ]
  },
  {
   "cell_type": "code",
   "execution_count": null,
   "metadata": {
    "colab": {
     "base_uri": "https://localhost:8080/"
    },
    "id": "rZQJVm_hXDbO",
    "outputId": "d488b45a-45fc-4234-e239-401e4948dbb1"
   },
   "outputs": [],
   "source": [
    "# Обучение модели COMBI\n",
    "combi_model = gmdh.Combi()\n",
    "combi_model.fit(X_train, y_train, verbose=1, n_jobs=-1, test_size=0.24, limit=7,\n",
    "                criterion=gmdh.Criterion(gmdh.CriterionType.REGULARITY))"
   ]
  },
  {
   "cell_type": "code",
   "execution_count": null,
   "metadata": {
    "colab": {
     "base_uri": "https://localhost:8080/"
    },
    "id": "E4fnGVDfXHa4",
    "outputId": "5af720a6-b72b-4ebb-d884-580b225e6c43"
   },
   "outputs": [],
   "source": [
    "# Обучение модели MULTI\n",
    "multi_model = gmdh.Multi()\n",
    "multi_model.fit(X_train, y_train, verbose=1, n_jobs=-1, test_size=0.24, limit=0, k_best=15,\n",
    "                criterion=gmdh.Criterion(gmdh.CriterionType.REGULARITY))"
   ]
  },
  {
   "cell_type": "code",
   "execution_count": null,
   "metadata": {
    "colab": {
     "base_uri": "https://localhost:8080/"
    },
    "id": "1qHnP79DXJvp",
    "outputId": "6af3854f-e981-40dd-f1c9-258cb72c60e9"
   },
   "outputs": [],
   "source": [
    "def evaluate_model(model, X_test, y_test):\n",
    "    y_pred = model.predict(X_test)\n",
    "    # Преобразование предсказанных вероятностей в бинарные значения\n",
    "    y_pred_binary = [1 if prob > 0.5 else 0 for prob in y_pred]\n",
    "    accuracy = accuracy_score(y_test, y_pred_binary)\n",
    "    return accuracy"
   ]
  },
  {
   "cell_type": "code",
   "execution_count": null,
   "metadata": {
    "colab": {
     "base_uri": "https://localhost:8080/"
    },
    "id": "WtD1ud9tXMUr",
    "outputId": "d962df95-15a2-4255-d149-e234eec5b1e1"
   },
   "outputs": [],
   "source": [
    "# Вывод результатов\n",
    "print(\"Stacking Model Accuracy:\", evaluate_model(stacking_model, X_test, y_test))\n",
    "print(\"MLP Model Accuracy:\", evaluate_model(mlp_model, X_test, y_test))\n",
    "print(\"COMBI Model Accuracy:\", evaluate_model(combi_model, X_test, y_test))\n",
    "print(\"MULTI Model Accuracy:\", evaluate_model(multi_model, X_test, y_test))"
   ]
  },
  {
   "cell_type": "code",
   "execution_count": null,
   "metadata": {
    "colab": {
     "base_uri": "https://localhost:8080/"
    },
    "id": "xztapoF7XaMb",
    "outputId": "dd14beb4-1355-4a42-a425-7b2e66e1ede4"
   },
   "outputs": [],
   "source": []
  }
 ],
 "metadata": {
  "colab": {
   "provenance": []
  },
  "kernelspec": {
   "display_name": "Python 3 (ipykernel)",
   "language": "python",
   "name": "python3"
  },
  "language_info": {
   "codemirror_mode": {
    "name": "ipython",
    "version": 3
   },
   "file_extension": ".py",
   "mimetype": "text/x-python",
   "name": "python",
   "nbconvert_exporter": "python",
   "pygments_lexer": "ipython3",
   "version": "3.12.3"
  }
 },
 "nbformat": 4,
 "nbformat_minor": 1
}
