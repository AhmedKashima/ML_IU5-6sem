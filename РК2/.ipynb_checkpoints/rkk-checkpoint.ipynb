{
  "cells": [
    {
      "cell_type": "markdown",
      "id": "da038a87",
      "metadata": {
        "id": "da038a87"
      },
      "source": [
        "\n",
        "# **Кашима Ахмед, ИУ5И-61Б**\n",
        "\n",
        "\n",
        "# **РК№2**\n",
        "\n"
      ]
    },
    {
      "cell_type": "markdown",
      "id": "8ae51df8",
      "metadata": {},
      "source": [
        "## Вариант№31"
      ]
    },
    {
      "cell_type": "markdown",
      "id": "075091c8",
      "metadata": {},
      "source": [
        "**Задание.** Для заданного набора данных (по Вашему варианту) постройте модели классификации или регрессии (в зависимости от конкретной задачи, рассматриваемой в наборе данных). Для построения моделей используйте методы 1 и 2 (по варианту для Вашей группы). Оцените качество моделей на основе подходящих метрик качества (не менее двух метрик). Какие метрики качества Вы использовали и почему? Какие выводы Вы можете сделать о качестве построенных моделей? Для построения моделей необходимо выполнить требуемую предобработку данных: заполнение пропусков, кодирование категориальных признаков, и т.д."
      ]
    },
    {
      "cell_type": "markdown",
      "id": "Ojs3Gfb2nlTA",
      "metadata": {
        "id": "Ojs3Gfb2nlTA"
      },
      "source": [
        "**Задание по варианту:** линейная/логистическая регрессия, случайный лес."
      ]
    },
    {
      "cell_type": "markdown",
      "id": "81134bf1",
      "metadata": {},
      "source": [
        "**Датасет:** https://www.kaggle.com/datasets/kmldas/loan-default-prediction (файл Default_Fin.csv)"
      ]
    },
    {
      "cell_type": "markdown",
      "id": "c878b553",
      "metadata": {},
      "source": [
        "В качестве набора данных предлагается датасет с бразильскими домами для аренды.\n",
        "\n",
        "В данном датасете 5 колонок:\n",
        "\n",
        "* **index** - индификатор;\n",
        "* **Employed** - тродоустройства; \n",
        "* **Bank Balance** - баланс в банке;\n",
        "* **Annual Salary** - годовая зароботная плата;\n",
        "* **Defaulted** - дефолт;"
      ]
    },
    {
      "cell_type": "code",
      "execution_count": 42,
      "id": "1487f51c",
      "metadata": {
        "id": "1487f51c"
      },
      "outputs": [],
      "source": [
        "import numpy as np\n",
        "import pandas as pd\n",
        "from typing import Dict, Tuple\n",
        "from scipy import stats\n",
        "from IPython.display import Image\n",
        "from io import StringIO\n",
        "from IPython.display import Image\n",
        "import graphviz\n",
        "from sklearn.model_selection import cross_val_score\n",
        "from sklearn.model_selection import train_test_split\n",
        "from sklearn.neighbors import KNeighborsRegressor, KNeighborsClassifier\n",
        "from sklearn.model_selection import GridSearchCV, RandomizedSearchCV\n",
        "from sklearn.metrics import accuracy_score, balanced_accuracy_score\n",
        "from sklearn.metrics import precision_score, recall_score, f1_score, classification_report\n",
        "from sklearn.metrics import confusion_matrix\n",
        "from sklearn.tree import DecisionTreeClassifier, DecisionTreeRegressor, export_graphviz\n",
        "from sklearn.ensemble import RandomForestClassifier, RandomForestRegressor\n",
        "from sklearn.ensemble import ExtraTreesClassifier, ExtraTreesRegressor\n",
        "from sklearn.ensemble import GradientBoostingClassifier, GradientBoostingRegressor\n",
        "from sklearn.ensemble import BaggingClassifier\n",
        "from sklearn.ensemble import AdaBoostClassifier\n",
        "from sklearn.metrics import mean_absolute_error, mean_squared_error, mean_squared_log_error, median_absolute_error, r2_score\n",
        "from sklearn.metrics import roc_curve, roc_auc_score\n",
        "import seaborn as sns\n",
        "import matplotlib.pyplot as plt\n",
        "%matplotlib inline\n",
        "sns.set(style=\"ticks\")\n",
        "from sklearn.preprocessing import StandardScaler"
      ]
    },
    {
      "cell_type": "markdown",
      "id": "803ee6a3",
      "metadata": {
        "id": "803ee6a3"
      },
      "source": [
        "## Загрузка и первичный анализ данных\n"
      ]
    },
    {
      "cell_type": "code",
      "execution_count": 43,
      "id": "a219ff2d",
      "metadata": {
        "id": "a219ff2d"
      },
      "outputs": [],
      "source": [
        "data = pd.read_csv('Default_Fin.csv', sep=\",\")"
      ]
    },
    {
      "cell_type": "code",
      "execution_count": 44,
      "id": "ea97603b",
      "metadata": {
        "colab": {
          "base_uri": "https://localhost:8080/"
        },
        "id": "ea97603b",
        "outputId": "2d37837a-1d1e-4930-ccef-dbf78bcf697a"
      },
      "outputs": [
        {
          "data": {
            "text/plain": [
              "(10000, 5)"
            ]
          },
          "execution_count": 44,
          "metadata": {},
          "output_type": "execute_result"
        }
      ],
      "source": [
        "data.shape"
      ]
    },
    {
      "cell_type": "code",
      "execution_count": 45,
      "id": "e9fbed26",
      "metadata": {
        "colab": {
          "base_uri": "https://localhost:8080/"
        },
        "id": "e9fbed26",
        "outputId": "47eaeba4-f0a8-4bd4-ac80-3ec2fb3b659e"
      },
      "outputs": [
        {
          "data": {
            "text/plain": [
              "Index              int64\n",
              "Employed           int64\n",
              "Bank Balance     float64\n",
              "Annual Salary    float64\n",
              "Defaulted?         int64\n",
              "dtype: object"
            ]
          },
          "execution_count": 45,
          "metadata": {},
          "output_type": "execute_result"
        }
      ],
      "source": [
        "# типы колонок\n",
        "data.dtypes"
      ]
    },
    {
      "cell_type": "code",
      "execution_count": 46,
      "id": "2eec70a2",
      "metadata": {
        "colab": {
          "base_uri": "https://localhost:8080/",
          "height": 295
        },
        "id": "2eec70a2",
        "outputId": "478ed3c9-70fe-426f-dc60-f79852dcc254"
      },
      "outputs": [
        {
          "data": {
            "text/html": [
              "<div>\n",
              "<style scoped>\n",
              "    .dataframe tbody tr th:only-of-type {\n",
              "        vertical-align: middle;\n",
              "    }\n",
              "\n",
              "    .dataframe tbody tr th {\n",
              "        vertical-align: top;\n",
              "    }\n",
              "\n",
              "    .dataframe thead th {\n",
              "        text-align: right;\n",
              "    }\n",
              "</style>\n",
              "<table border=\"1\" class=\"dataframe\">\n",
              "  <thead>\n",
              "    <tr style=\"text-align: right;\">\n",
              "      <th></th>\n",
              "      <th>Index</th>\n",
              "      <th>Employed</th>\n",
              "      <th>Bank Balance</th>\n",
              "      <th>Annual Salary</th>\n",
              "      <th>Defaulted?</th>\n",
              "    </tr>\n",
              "  </thead>\n",
              "  <tbody>\n",
              "    <tr>\n",
              "      <th>0</th>\n",
              "      <td>1</td>\n",
              "      <td>1</td>\n",
              "      <td>8754.36</td>\n",
              "      <td>532339.56</td>\n",
              "      <td>0</td>\n",
              "    </tr>\n",
              "    <tr>\n",
              "      <th>1</th>\n",
              "      <td>2</td>\n",
              "      <td>0</td>\n",
              "      <td>9806.16</td>\n",
              "      <td>145273.56</td>\n",
              "      <td>0</td>\n",
              "    </tr>\n",
              "    <tr>\n",
              "      <th>2</th>\n",
              "      <td>3</td>\n",
              "      <td>1</td>\n",
              "      <td>12882.60</td>\n",
              "      <td>381205.68</td>\n",
              "      <td>0</td>\n",
              "    </tr>\n",
              "    <tr>\n",
              "      <th>3</th>\n",
              "      <td>4</td>\n",
              "      <td>1</td>\n",
              "      <td>6351.00</td>\n",
              "      <td>428453.88</td>\n",
              "      <td>0</td>\n",
              "    </tr>\n",
              "    <tr>\n",
              "      <th>4</th>\n",
              "      <td>5</td>\n",
              "      <td>1</td>\n",
              "      <td>9427.92</td>\n",
              "      <td>461562.00</td>\n",
              "      <td>0</td>\n",
              "    </tr>\n",
              "  </tbody>\n",
              "</table>\n",
              "</div>"
            ],
            "text/plain": [
              "   Index  Employed  Bank Balance  Annual Salary  Defaulted?\n",
              "0      1         1       8754.36      532339.56           0\n",
              "1      2         0       9806.16      145273.56           0\n",
              "2      3         1      12882.60      381205.68           0\n",
              "3      4         1       6351.00      428453.88           0\n",
              "4      5         1       9427.92      461562.00           0"
            ]
          },
          "execution_count": 46,
          "metadata": {},
          "output_type": "execute_result"
        }
      ],
      "source": [
        "data.head(5)"
      ]
    },
    {
      "cell_type": "code",
      "execution_count": 47,
      "id": "4c5d1881",
      "metadata": {
        "id": "4c5d1881"
      },
      "outputs": [],
      "source": [
        "data.rename(columns={'Defaulted?': \"Defaulted\"}, inplace=True)"
      ]
    },
    {
      "cell_type": "code",
      "execution_count": 48,
      "id": "073a3e00",
      "metadata": {
        "colab": {
          "base_uri": "https://localhost:8080/"
        },
        "id": "073a3e00",
        "outputId": "44617927-c05e-438e-dd32-cb534a34299f"
      },
      "outputs": [
        {
          "name": "stdout",
          "output_type": "stream",
          "text": [
            "Index            0\n",
            "Employed         0\n",
            "Bank Balance     0\n",
            "Annual Salary    0\n",
            "Defaulted        0\n",
            "dtype: int64\n"
          ]
        }
      ],
      "source": [
        "# кол-во пропущенные значений (тк нулевые значения в данном датасете - конкретное значения)\n",
        "nan_count = (data.isna().sum())\n",
        "print(nan_count)"
      ]
    },
    {
      "cell_type": "markdown",
      "id": "47ae6543",
      "metadata": {
        "id": "47ae6543"
      },
      "source": [
        "## Обрабработка данных"
      ]
    },
    {
      "cell_type": "markdown",
      "id": "Gp0qJ5h2sTtI",
      "metadata": {
        "id": "Gp0qJ5h2sTtI"
      },
      "source": [
        "## Разделение на обучающую и тестовую выборки."
      ]
    },
    {
      "cell_type": "code",
      "execution_count": 49,
      "id": "Ebf9jwMhI8Mm",
      "metadata": {
        "id": "Ebf9jwMhI8Mm"
      },
      "outputs": [],
      "source": [
        "target = data['Defaulted']\n",
        "data_X_train, data_X_test, data_y_train, data_y_test = train_test_split(\n",
        "    data, target, test_size=0.2, random_state=1)"
      ]
    },
    {
      "cell_type": "code",
      "execution_count": 50,
      "id": "DC5S1KYGpl8J",
      "metadata": {
        "colab": {
          "base_uri": "https://localhost:8080/"
        },
        "id": "DC5S1KYGpl8J",
        "outputId": "d9e0d6df-3af7-40ca-a80c-7408d9973cea"
      },
      "outputs": [
        {
          "data": {
            "text/plain": [
              "((8000, 5), (2000, 5), (8000,), (2000,))"
            ]
          },
          "execution_count": 50,
          "metadata": {},
          "output_type": "execute_result"
        }
      ],
      "source": [
        "data_X_train.shape, data_X_test.shape, data_y_train.shape, data_y_test.shape"
      ]
    },
    {
      "cell_type": "markdown",
      "id": "-Enr_w0iuYAr",
      "metadata": {
        "id": "-Enr_w0iuYAr"
      },
      "source": [
        "# Линейная/логистическая регрессия"
      ]
    },
    {
      "cell_type": "code",
      "execution_count": 51,
      "id": "kTgB0uafpl-r",
      "metadata": {
        "id": "kTgB0uafpl-r"
      },
      "outputs": [],
      "source": [
        "from sklearn.linear_model import LinearRegression, LogisticRegression\n",
        "\n",
        "# Поскольку целевая переменная бинарная (Defaulted), используем логистическую регрессию\n",
        "log_reg = LogisticRegression(max_iter=1000)\n",
        "log_reg.fit(data_X_train, data_y_train)"
      ]
    },
    {
      "cell_type": "code",
      "execution_count": 52,
      "id": "uTTl3kjCpmBA",
      "metadata": {
        "id": "uTTl3kjCpmBA"
      },
      "outputs": [],
      "source": [
        "data_y_pred_1 = log_reg.predict(data_X_test)"
      ]
    },
    {
      "cell_type": "code",
      "execution_count": 53,
      "id": "TvS6mfG0pmDK",
      "metadata": {
        "colab": {
          "base_uri": "https://localhost:8080/"
        },
        "id": "TvS6mfG0pmDK",
        "outputId": "2b9d8546-0ea6-4702-a186-5cc0390c2733"
      },
      "outputs": [
        {
          "data": {
            "text/plain": [
              "(0.027, 0.027)"
            ]
          },
          "execution_count": 53,
          "metadata": {},
          "output_type": "execute_result"
        }
      ],
      "source": [
        "mean_absolute_error(data_y_test, data_y_pred_1), mean_squared_error(data_y_test, data_y_pred_1)"
      ]
    },
    {
      "cell_type": "code",
      "execution_count": 54,
      "id": "Hsf6SJf92G0C",
      "metadata": {
        "id": "Hsf6SJf92G0C"
      },
      "outputs": [],
      "source": [
        "from sklearn.preprocessing import MinMaxScaler\n",
        "\n",
        "scaler = MinMaxScaler()\n",
        "data_scaled = scaler.fit_transform(data)\n",
        "data_scaled = pd.DataFrame(data_scaled, columns=data.columns)"
      ]
    },
    {
      "cell_type": "code",
      "execution_count": 55,
      "id": "NJG5Y8FC2G2h",
      "metadata": {
        "id": "NJG5Y8FC2G2h"
      },
      "outputs": [],
      "source": [
        "target_2 = data_scaled['Defaulted']\n",
        "data_X_train_2, data_X_test_2, data_y_train_2, data_y_test_2 = train_test_split(\n",
        "    data_scaled, target_2, test_size=0.2, random_state=1)"
      ]
    },
    {
      "cell_type": "code",
      "execution_count": 56,
      "id": "PmaVNJHg43oD",
      "metadata": {
        "id": "PmaVNJHg43oD"
      },
      "outputs": [],
      "source": [
        "log_reg_2 = LogisticRegression(max_iter=1000)\n",
        "log_reg_2.fit(data_X_train_2, data_y_train_2)"
      ]
    },
    {
      "cell_type": "code",
      "execution_count": 57,
      "id": "vClWh3Ow49VJ",
      "metadata": {
        "id": "vClWh3Ow49VJ"
      },
      "outputs": [],
      "source": [
        "data_y_pred_2 = log_reg_2.predict(data_X_test_2)"
      ]
    },
    {
      "cell_type": "code",
      "execution_count": 58,
      "id": "SIgCa-So5CI3",
      "metadata": {
        "colab": {
          "base_uri": "https://localhost:8080/"
        },
        "id": "SIgCa-So5CI3",
        "outputId": "0883279a-a2c9-47fc-e524-de2181ca4eab"
      },
      "outputs": [
        {
          "data": {
            "text/plain": [
              "(0.027, 0.027)"
            ]
          },
          "execution_count": 58,
          "metadata": {},
          "output_type": "execute_result"
        }
      ],
      "source": [
        "mean_absolute_error(data_y_test_2, data_y_pred_2), mean_squared_error(data_y_test_2, data_y_pred_2)"
      ]
    },
    {
      "cell_type": "markdown",
      "id": "jaqusGTQo1vu",
      "metadata": {
        "id": "jaqusGTQo1vu"
      },
      "source": [
        "# Случайный лес"
      ]
    },
    {
      "cell_type": "code",
      "execution_count": 59,
      "id": "lVcavhgv-kuc",
      "metadata": {
        "id": "lVcavhgv-kuc"
      },
      "outputs": [],
      "source": [
        "from sklearn.ensemble import RandomForestClassifier\n",
        "\n",
        "target_3 = data['Defaulted']\n",
        "data_X_train_3, data_X_test_3, data_y_train_3, data_y_test_3 = train_test_split(\n",
        "    data, target_3, test_size=0.2, random_state=1)\n",
        "\n",
        "rf = RandomForestClassifier(n_estimators=100, random_state=1)\n",
        "rf.fit(data_X_train_3, data_y_train_3)\n",
        "\n",
        "data_y_pred_3 = rf.predict(data_X_test_3)"
      ]
    },
    {
      "cell_type": "code",
      "execution_count": 60,
      "id": "RbSsA3Lj-e-2",
      "metadata": {
        "colab": {
          "base_uri": "https://localhost:8080/"
        },
        "id": "RbSsA3Lj-e-2",
        "outputId": "ddb72d71-9407-4c45-ec0f-84677e9ec351"
      },
      "outputs": [
        {
          "data": {
            "text/plain": [
              "(0.0125, 0.0125)"
            ]
          },
          "execution_count": 60,
          "metadata": {},
          "output_type": "execute_result"
        }
      ],
      "source": [
        "mean_absolute_error(data_y_test_3, data_y_pred_3), mean_squared_error(data_y_test_3, data_y_pred_3)"
      ]
    },
    {
      "cell_type": "code",
      "execution_count": 61,
      "id": "tPCjKBtr_OC4",
      "metadata": {
        "colab": {
          "base_uri": "https://localhost:8080/"
        },
        "id": "tPCjKBtr_OC4",
        "outputId": "96079ea2-7ee8-42ba-d47b-df088656c0b9"
      },
      "outputs": [
        {
          "data": {
            "text/plain": [
              "0.9875"
            ]
          },
          "execution_count": 61,
          "metadata": {},
          "output_type": "execute_result"
        }
      ],
      "source": [
        "accuracy_score(data_y_test_3, data_y_pred_3)"
      ]
    },
    {
      "cell_type": "code",
      "execution_count": 62,
      "id": "11Irjhro_g_P",
      "metadata": {
        "colab": {
          "base_uri": "https://localhost:8080/"
        },
        "id": "11Irjhro_g_P",
        "outputId": "67a8e6a8-0d8b-46ce-bde4-664e1766bd35"
      },
      "outputs": [
        {
          "data": {
            "text/plain": [
              "0.9875"
            ]
          },
          "execution_count": 62,
          "metadata": {},
          "output_type": "execute_result"
        }
      ],
      "source": [
        "f1_score(data_y_test_3, data_y_pred_3, average='micro')"
      ]
    },
    {
      "cell_type": "code",
      "execution_count": 63,
      "id": "n_uFU87x_oIn",
      "metadata": {
        "colab": {
          "base_uri": "https://localhost:8080/"
        },
        "id": "n_uFU87x_oIn",
        "outputId": "dd443c3a-c031-445e-c903-50b33dc7f404"
      },
      "outputs": [
        {
          "data": {
            "text/plain": [
              "0.9875"
            ]
          },
          "execution_count": 63,
          "metadata": {},
          "output_type": "execute_result"
        }
      ],
      "source": [
        "f1_score(data_y_test_3, data_y_pred_3, average='macro')"
      ]
    },
    {
      "cell_type": "code",
      "execution_count": 64,
      "id": "5YTBl-El_pAJ",
      "metadata": {
        "colab": {
          "base_uri": "https://localhost:8080/"
        },
        "id": "5YTBl-El_pAJ",
        "outputId": "8ab3f2b2-4b86-4d7e-bcb2-0b45f6127b98"
      },
      "outputs": [
        {
          "data": {
            "text/plain": [
              "0.9875"
            ]
          },
          "execution_count": 64,
          "metadata": {},
          "output_type": "execute_result"
        }
      ],
      "source": [
        "f1_score(data_y_test_3, data_y_pred_3, average='weighted')"
      ]
    },
    {
      "cell_type": "markdown",
      "id": "hFvsHrH7_wOf",
      "metadata": {
        "id": "hFvsHrH7_wOf"
      },
      "source": [
        "**Вывод**: модель случайного леса показала себя лучше, чем модель логистической регрессии, достигнув точности 98.75% против 97.3% у логистической регрессии."
      ]
    }
  ],
  "metadata": {
    "colab": {
      "provenance": []
    },
    "kernelspec": {
      "display_name": "Python 3 (ipykernel)",
      "language": "python",
      "name": "python3"
    },
    "language_info": {
      "codemirror_mode": {
        "name": "ipython",
        "version": 3
      },
      "file_extension": ".py",
      "mimetype": "text/x-python",
      "name": "python",
      "nbconvert_exporter": "python",
      "pygments_lexer": "ipython3",
      "version": "3.12.1"
    }
  },
  "nbformat": 4,
  "nbformat_minor": 5
}
