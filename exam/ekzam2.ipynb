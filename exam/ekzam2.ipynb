{
 "cells": [
  {
   "cell_type": "code",
   "execution_count": 5,
   "id": "239ade7b-7a32-483a-a0b5-81503d1dc415",
   "metadata": {},
   "outputs": [],
   "source": [
    "\n",
    "import sys\n",
    "sys.path.append(\"/home/ahmedkashima/venv/lib/python3.12/site-packages\")\n",
    "import pandas as pd\n",
    "\n",
    "# Импорт необходимых библиотекfrom sklearn.linear_model import LinearRegression\n",
    "from sklearn.model_selection import cross_val_score"
   ]
  },
  {
   "cell_type": "code",
   "execution_count": 7,
   "id": "b95d9d3c-d9f7-4ca1-bf4c-f9778455fe65",
   "metadata": {},
   "outputs": [
    {
     "name": "stdout",
     "output_type": "stream",
     "text": [
      "         x1        x2        x3         y\n",
      "0  0.135807  0.352670  0.549685  0.315670\n",
      "1  0.112499  1.001910  0.021861  0.774527\n",
      "2  0.284491  0.242460  0.351474  0.331960\n",
      "3  0.210160  0.772853  0.161789  0.723853\n",
      "4  0.274513  0.450023  0.524428  0.378081\n"
     ]
    }
   ],
   "source": [
    "# Загрузка данных из CSV-файла\n",
    "data = pd.read_csv('dataset_05.csv', delimiter=';')\n",
    "\n",
    "# Проверка первых строк данных\n",
    "print(data.head())"
   ]
  },
  {
   "cell_type": "code",
   "execution_count": 8,
   "id": "0854e6e0-be92-4038-886b-f711e7f543a5",
   "metadata": {},
   "outputs": [
    {
     "ename": "NameError",
     "evalue": "name 'LinearRegression' is not defined",
     "output_type": "error",
     "traceback": [
      "\u001b[0;31m---------------------------------------------------------------------------\u001b[0m",
      "\u001b[0;31mNameError\u001b[0m                                 Traceback (most recent call last)",
      "Cell \u001b[0;32mIn[8], line 2\u001b[0m\n\u001b[1;32m      1\u001b[0m \u001b[38;5;66;03m# Создание модели линейной регрессии\u001b[39;00m\n\u001b[0;32m----> 2\u001b[0m model \u001b[38;5;241m=\u001b[39m \u001b[43mLinearRegression\u001b[49m()\n\u001b[1;32m      4\u001b[0m \u001b[38;5;66;03m# Выполнение кросс-валидации с метрикой 'max_error'\u001b[39;00m\n\u001b[1;32m      5\u001b[0m max_errors \u001b[38;5;241m=\u001b[39m cross_val_score(\n\u001b[1;32m      6\u001b[0m     model,\n\u001b[1;32m      7\u001b[0m     data[[\u001b[38;5;124m'\u001b[39m\u001b[38;5;124mx1\u001b[39m\u001b[38;5;124m'\u001b[39m, \u001b[38;5;124m'\u001b[39m\u001b[38;5;124mx2\u001b[39m\u001b[38;5;124m'\u001b[39m, \u001b[38;5;124m'\u001b[39m\u001b[38;5;124mx3\u001b[39m\u001b[38;5;124m'\u001b[39m]],\n\u001b[0;32m   (...)\u001b[0m\n\u001b[1;32m     10\u001b[0m     scoring\u001b[38;5;241m=\u001b[39m\u001b[38;5;124m'\u001b[39m\u001b[38;5;124mmax_error\u001b[39m\u001b[38;5;124m'\u001b[39m\n\u001b[1;32m     11\u001b[0m )\n",
      "\u001b[0;31mNameError\u001b[0m: name 'LinearRegression' is not defined"
     ]
    }
   ],
   "source": [
    "# Создание модели линейной регрессии\n",
    "model = LinearRegression()\n",
    "\n",
    "# Выполнение кросс-валидации с метрикой 'max_error'\n",
    "max_errors = cross_val_score(\n",
    "    model,\n",
    "    data[['x1', 'x2', 'x3']],\n",
    "    data['y'],\n",
    "    cv=5,\n",
    "    scoring='max_error'\n",
    ")\n",
    "\n",
    "# Вычисление среднего значения максимальных ошибок\n",
    "mean_max_error = np.mean(np.abs(max_errors))\n",
    "print(f\"Усредненное значение max_error: {mean_max_error:.4f}\")"
   ]
  },
  {
   "cell_type": "code",
   "execution_count": 9,
   "id": "e9dd2188-82de-4e20-a6d1-aba015e93189",
   "metadata": {},
   "outputs": [
    {
     "ename": "InvalidParameterError",
     "evalue": "The 'scoring' parameter of cross_val_score must be a str among {'average_precision', 'r2', 'neg_max_error', 'neg_brier_score', 'neg_mean_gamma_deviance', 'jaccard_samples', 'neg_mean_absolute_percentage_error', 'neg_log_loss', 'positive_likelihood_ratio', 'recall_macro', 'normalized_mutual_info_score', 'precision_micro', 'recall', 'completeness_score', 'recall_micro', 'f1_macro', 'neg_root_mean_squared_error', 'neg_median_absolute_error', 'matthews_corrcoef', 'rand_score', 'roc_auc_ovr_weighted', 'f1_weighted', 'neg_mean_poisson_deviance', 'f1_micro', 'jaccard', 'neg_negative_likelihood_ratio', 'neg_mean_squared_error', 'accuracy', 'v_measure_score', 'roc_auc_ovo_weighted', 'fowlkes_mallows_score', 'jaccard_micro', 'balanced_accuracy', 'explained_variance', 'neg_root_mean_squared_log_error', 'd2_absolute_error_score', 'neg_mean_squared_log_error', 'mutual_info_score', 'recall_samples', 'adjusted_rand_score', 'neg_mean_absolute_error', 'jaccard_macro', 'precision_macro', 'precision_weighted', 'top_k_accuracy', 'precision_samples', 'homogeneity_score', 'roc_auc_ovr', 'roc_auc_ovo', 'precision', 'f1_samples', 'recall_weighted', 'roc_auc', 'jaccard_weighted', 'adjusted_mutual_info_score', 'f1'}, a callable or None. Got 'max_error' instead.",
     "output_type": "error",
     "traceback": [
      "\u001b[0;31m---------------------------------------------------------------------------\u001b[0m",
      "\u001b[0;31mInvalidParameterError\u001b[0m                     Traceback (most recent call last)",
      "Cell \u001b[0;32mIn[9], line 11\u001b[0m\n\u001b[1;32m      9\u001b[0m \u001b[38;5;66;03m# Создание и оценка модели\u001b[39;00m\n\u001b[1;32m     10\u001b[0m model \u001b[38;5;241m=\u001b[39m LinearRegression()\n\u001b[0;32m---> 11\u001b[0m max_errors \u001b[38;5;241m=\u001b[39m \u001b[43mcross_val_score\u001b[49m\u001b[43m(\u001b[49m\n\u001b[1;32m     12\u001b[0m \u001b[43m    \u001b[49m\u001b[43mmodel\u001b[49m\u001b[43m,\u001b[49m\n\u001b[1;32m     13\u001b[0m \u001b[43m    \u001b[49m\u001b[43mdata\u001b[49m\u001b[43m[\u001b[49m\u001b[43m[\u001b[49m\u001b[38;5;124;43m'\u001b[39;49m\u001b[38;5;124;43mx1\u001b[39;49m\u001b[38;5;124;43m'\u001b[39;49m\u001b[43m,\u001b[49m\u001b[43m \u001b[49m\u001b[38;5;124;43m'\u001b[39;49m\u001b[38;5;124;43mx2\u001b[39;49m\u001b[38;5;124;43m'\u001b[39;49m\u001b[43m,\u001b[49m\u001b[43m \u001b[49m\u001b[38;5;124;43m'\u001b[39;49m\u001b[38;5;124;43mx3\u001b[39;49m\u001b[38;5;124;43m'\u001b[39;49m\u001b[43m]\u001b[49m\u001b[43m]\u001b[49m\u001b[43m,\u001b[49m\n\u001b[1;32m     14\u001b[0m \u001b[43m    \u001b[49m\u001b[43mdata\u001b[49m\u001b[43m[\u001b[49m\u001b[38;5;124;43m'\u001b[39;49m\u001b[38;5;124;43my\u001b[39;49m\u001b[38;5;124;43m'\u001b[39;49m\u001b[43m]\u001b[49m\u001b[43m,\u001b[49m\n\u001b[1;32m     15\u001b[0m \u001b[43m    \u001b[49m\u001b[43mcv\u001b[49m\u001b[38;5;241;43m=\u001b[39;49m\u001b[38;5;241;43m5\u001b[39;49m\u001b[43m,\u001b[49m\n\u001b[1;32m     16\u001b[0m \u001b[43m    \u001b[49m\u001b[43mscoring\u001b[49m\u001b[38;5;241;43m=\u001b[39;49m\u001b[38;5;124;43m'\u001b[39;49m\u001b[38;5;124;43mmax_error\u001b[39;49m\u001b[38;5;124;43m'\u001b[39;49m\n\u001b[1;32m     17\u001b[0m \u001b[43m)\u001b[49m\n\u001b[1;32m     19\u001b[0m \u001b[38;5;66;03m# Вычисление и вывод результата\u001b[39;00m\n\u001b[1;32m     20\u001b[0m mean_max_error \u001b[38;5;241m=\u001b[39m np\u001b[38;5;241m.\u001b[39mmean(np\u001b[38;5;241m.\u001b[39mabs(max_errors))\n",
      "File \u001b[0;32m~/venv/lib/python3.12/site-packages/sklearn/utils/_param_validation.py:206\u001b[0m, in \u001b[0;36mvalidate_params.<locals>.decorator.<locals>.wrapper\u001b[0;34m(*args, **kwargs)\u001b[0m\n\u001b[1;32m    203\u001b[0m to_ignore \u001b[38;5;241m+\u001b[39m\u001b[38;5;241m=\u001b[39m [\u001b[38;5;124m\"\u001b[39m\u001b[38;5;124mself\u001b[39m\u001b[38;5;124m\"\u001b[39m, \u001b[38;5;124m\"\u001b[39m\u001b[38;5;124mcls\u001b[39m\u001b[38;5;124m\"\u001b[39m]\n\u001b[1;32m    204\u001b[0m params \u001b[38;5;241m=\u001b[39m {k: v \u001b[38;5;28;01mfor\u001b[39;00m k, v \u001b[38;5;129;01min\u001b[39;00m params\u001b[38;5;241m.\u001b[39marguments\u001b[38;5;241m.\u001b[39mitems() \u001b[38;5;28;01mif\u001b[39;00m k \u001b[38;5;129;01mnot\u001b[39;00m \u001b[38;5;129;01min\u001b[39;00m to_ignore}\n\u001b[0;32m--> 206\u001b[0m \u001b[43mvalidate_parameter_constraints\u001b[49m\u001b[43m(\u001b[49m\n\u001b[1;32m    207\u001b[0m \u001b[43m    \u001b[49m\u001b[43mparameter_constraints\u001b[49m\u001b[43m,\u001b[49m\u001b[43m \u001b[49m\u001b[43mparams\u001b[49m\u001b[43m,\u001b[49m\u001b[43m \u001b[49m\u001b[43mcaller_name\u001b[49m\u001b[38;5;241;43m=\u001b[39;49m\u001b[43mfunc\u001b[49m\u001b[38;5;241;43m.\u001b[39;49m\u001b[38;5;18;43m__qualname__\u001b[39;49m\n\u001b[1;32m    208\u001b[0m \u001b[43m\u001b[49m\u001b[43m)\u001b[49m\n\u001b[1;32m    210\u001b[0m \u001b[38;5;28;01mtry\u001b[39;00m:\n\u001b[1;32m    211\u001b[0m     \u001b[38;5;28;01mwith\u001b[39;00m config_context(\n\u001b[1;32m    212\u001b[0m         skip_parameter_validation\u001b[38;5;241m=\u001b[39m(\n\u001b[1;32m    213\u001b[0m             prefer_skip_nested_validation \u001b[38;5;129;01mor\u001b[39;00m global_skip_validation\n\u001b[1;32m    214\u001b[0m         )\n\u001b[1;32m    215\u001b[0m     ):\n",
      "File \u001b[0;32m~/venv/lib/python3.12/site-packages/sklearn/utils/_param_validation.py:98\u001b[0m, in \u001b[0;36mvalidate_parameter_constraints\u001b[0;34m(parameter_constraints, params, caller_name)\u001b[0m\n\u001b[1;32m     92\u001b[0m \u001b[38;5;28;01melse\u001b[39;00m:\n\u001b[1;32m     93\u001b[0m     constraints_str \u001b[38;5;241m=\u001b[39m (\n\u001b[1;32m     94\u001b[0m         \u001b[38;5;124mf\u001b[39m\u001b[38;5;124m\"\u001b[39m\u001b[38;5;132;01m{\u001b[39;00m\u001b[38;5;124m'\u001b[39m\u001b[38;5;124m, \u001b[39m\u001b[38;5;124m'\u001b[39m\u001b[38;5;241m.\u001b[39mjoin([\u001b[38;5;28mstr\u001b[39m(c)\u001b[38;5;250m \u001b[39m\u001b[38;5;28;01mfor\u001b[39;00m\u001b[38;5;250m \u001b[39mc\u001b[38;5;250m \u001b[39m\u001b[38;5;129;01min\u001b[39;00m\u001b[38;5;250m \u001b[39mconstraints[:\u001b[38;5;241m-\u001b[39m\u001b[38;5;241m1\u001b[39m]])\u001b[38;5;132;01m}\u001b[39;00m\u001b[38;5;124m or\u001b[39m\u001b[38;5;124m\"\u001b[39m\n\u001b[1;32m     95\u001b[0m         \u001b[38;5;124mf\u001b[39m\u001b[38;5;124m\"\u001b[39m\u001b[38;5;124m \u001b[39m\u001b[38;5;132;01m{\u001b[39;00mconstraints[\u001b[38;5;241m-\u001b[39m\u001b[38;5;241m1\u001b[39m]\u001b[38;5;132;01m}\u001b[39;00m\u001b[38;5;124m\"\u001b[39m\n\u001b[1;32m     96\u001b[0m     )\n\u001b[0;32m---> 98\u001b[0m \u001b[38;5;28;01mraise\u001b[39;00m InvalidParameterError(\n\u001b[1;32m     99\u001b[0m     \u001b[38;5;124mf\u001b[39m\u001b[38;5;124m\"\u001b[39m\u001b[38;5;124mThe \u001b[39m\u001b[38;5;132;01m{\u001b[39;00mparam_name\u001b[38;5;132;01m!r}\u001b[39;00m\u001b[38;5;124m parameter of \u001b[39m\u001b[38;5;132;01m{\u001b[39;00mcaller_name\u001b[38;5;132;01m}\u001b[39;00m\u001b[38;5;124m must be\u001b[39m\u001b[38;5;124m\"\u001b[39m\n\u001b[1;32m    100\u001b[0m     \u001b[38;5;124mf\u001b[39m\u001b[38;5;124m\"\u001b[39m\u001b[38;5;124m \u001b[39m\u001b[38;5;132;01m{\u001b[39;00mconstraints_str\u001b[38;5;132;01m}\u001b[39;00m\u001b[38;5;124m. Got \u001b[39m\u001b[38;5;132;01m{\u001b[39;00mparam_val\u001b[38;5;132;01m!r}\u001b[39;00m\u001b[38;5;124m instead.\u001b[39m\u001b[38;5;124m\"\u001b[39m\n\u001b[1;32m    101\u001b[0m )\n",
      "\u001b[0;31mInvalidParameterError\u001b[0m: The 'scoring' parameter of cross_val_score must be a str among {'average_precision', 'r2', 'neg_max_error', 'neg_brier_score', 'neg_mean_gamma_deviance', 'jaccard_samples', 'neg_mean_absolute_percentage_error', 'neg_log_loss', 'positive_likelihood_ratio', 'recall_macro', 'normalized_mutual_info_score', 'precision_micro', 'recall', 'completeness_score', 'recall_micro', 'f1_macro', 'neg_root_mean_squared_error', 'neg_median_absolute_error', 'matthews_corrcoef', 'rand_score', 'roc_auc_ovr_weighted', 'f1_weighted', 'neg_mean_poisson_deviance', 'f1_micro', 'jaccard', 'neg_negative_likelihood_ratio', 'neg_mean_squared_error', 'accuracy', 'v_measure_score', 'roc_auc_ovo_weighted', 'fowlkes_mallows_score', 'jaccard_micro', 'balanced_accuracy', 'explained_variance', 'neg_root_mean_squared_log_error', 'd2_absolute_error_score', 'neg_mean_squared_log_error', 'mutual_info_score', 'recall_samples', 'adjusted_rand_score', 'neg_mean_absolute_error', 'jaccard_macro', 'precision_macro', 'precision_weighted', 'top_k_accuracy', 'precision_samples', 'homogeneity_score', 'roc_auc_ovr', 'roc_auc_ovo', 'precision', 'f1_samples', 'recall_weighted', 'roc_auc', 'jaccard_weighted', 'adjusted_mutual_info_score', 'f1'}, a callable or None. Got 'max_error' instead."
     ]
    }
   ],
   "source": [
    "import pandas as pd\n",
    "import numpy as np\n",
    "from sklearn.linear_model import LinearRegression\n",
    "from sklearn.model_selection import cross_val_score\n",
    "\n",
    "# Загрузка данных\n",
    "data = pd.read_csv('dataset_05.csv', delimiter=';')\n",
    "\n",
    "# Создание и оценка модели\n",
    "model = LinearRegression()\n",
    "max_errors = cross_val_score(\n",
    "    model,\n",
    "    data[['x1', 'x2', 'x3']],\n",
    "    data['y'],\n",
    "    cv=5,\n",
    "    scoring='max_error'\n",
    ")\n",
    "\n",
    "# Вычисление и вывод результата\n",
    "mean_max_error = np.mean(np.abs(max_errors))\n",
    "print(f\"Усредненное значение max_error: {mean_max_error:.4f}\")\n",
    "\n",
    "# Проверка выполнения условия\n",
    "if mean_max_error <= 0.22:\n",
    "    print(\"Условие задачи выполнено: средний max_error ≤ 0.22\")\n",
    "else:\n",
    "    print(\"Условие задачи не выполнено\")"
   ]
  }
 ],
 "metadata": {
  "kernelspec": {
   "display_name": "Python 3 (ipykernel)",
   "language": "python",
   "name": "python3"
  },
  "language_info": {
   "codemirror_mode": {
    "name": "ipython",
    "version": 3
   },
   "file_extension": ".py",
   "mimetype": "text/x-python",
   "name": "python",
   "nbconvert_exporter": "python",
   "pygments_lexer": "ipython3",
   "version": "3.12.3"
  }
 },
 "nbformat": 4,
 "nbformat_minor": 5
}
