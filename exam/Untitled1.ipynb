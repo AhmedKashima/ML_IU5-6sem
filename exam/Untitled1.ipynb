{
 "cells": [
  {
   "cell_type": "code",
   "execution_count": 3,
   "id": "c978e518",
   "metadata": {},
   "outputs": [],
   "source": [
    "\n",
    "import sys\n",
    "sys.path.append(\"/home/ahmedkashima/venv/lib/python3.12/site-packages\")\n",
    "# Импорт необходимых библиотек\n",
    "import pandas as pd\n",
    "import numpy as np\n",
    "from sklearn.linear_model import LinearRegression\n",
    "from sklearn.model_selection import cross_val_score"
   ]
  },
  {
   "cell_type": "code",
   "execution_count": 4,
   "id": "18e76aff",
   "metadata": {},
   "outputs": [
    {
     "name": "stdout",
     "output_type": "stream",
     "text": [
      "         x1        x2        x3         y\n",
      "0  0.135807  0.352670  0.549685  0.315670\n",
      "1  0.112499  1.001910  0.021861  0.774527\n",
      "2  0.284491  0.242460  0.351474  0.331960\n",
      "3  0.210160  0.772853  0.161789  0.723853\n",
      "4  0.274513  0.450023  0.524428  0.378081\n"
     ]
    }
   ],
   "source": [
    "# Загрузка данных из CSV-файла\n",
    "# Убедитесь, что файл находится в той же директории или укажите полный путь\n",
    "dataframe = pd.read_csv('dataset_04.csv', delimiter=';')\n",
    "\n",
    "# Проверка первых строк данных\n",
    "print(dataframe.head())"
   ]
  },
  {
   "cell_type": "code",
   "execution_count": 7,
   "id": "289609c3",
   "metadata": {},
   "outputs": [
    {
     "ename": "NameError",
     "evalue": "name 'RandomForestRegressor' is not defined",
     "output_type": "error",
     "traceback": [
      "\u001b[0;31m---------------------------------------------------------------------------\u001b[0m",
      "\u001b[0;31mNameError\u001b[0m                                 Traceback (most recent call last)",
      "Cell \u001b[0;32mIn[7], line 1\u001b[0m\n\u001b[0;32m----> 1\u001b[0m model \u001b[38;5;241m=\u001b[39m \u001b[43mRandomForestRegressor\u001b[49m(n_estimators\u001b[38;5;241m=\u001b[39m\u001b[38;5;241m100\u001b[39m, random_state\u001b[38;5;241m=\u001b[39m\u001b[38;5;241m42\u001b[39m)\n\u001b[1;32m      3\u001b[0m scores \u001b[38;5;241m=\u001b[39m \u001b[38;5;241m-\u001b[39mcross_val_score(\n\u001b[1;32m      4\u001b[0m     model,\n\u001b[1;32m      5\u001b[0m     df[[\u001b[38;5;124m'\u001b[39m\u001b[38;5;124mx1\u001b[39m\u001b[38;5;124m'\u001b[39m, \u001b[38;5;124m'\u001b[39m\u001b[38;5;124mx2\u001b[39m\u001b[38;5;124m'\u001b[39m, \u001b[38;5;124m'\u001b[39m\u001b[38;5;124mx3\u001b[39m\u001b[38;5;124m'\u001b[39m]],\n\u001b[0;32m   (...)\u001b[0m\n\u001b[1;32m      8\u001b[0m     scoring\u001b[38;5;241m=\u001b[39m\u001b[38;5;124m'\u001b[39m\u001b[38;5;124mneg_max_error\u001b[39m\u001b[38;5;124m'\u001b[39m\n\u001b[1;32m      9\u001b[0m )\n\u001b[1;32m     11\u001b[0m mean_error \u001b[38;5;241m=\u001b[39m np\u001b[38;5;241m.\u001b[39mmean(scores)\n",
      "\u001b[0;31mNameError\u001b[0m: name 'RandomForestRegressor' is not defined"
     ]
    }
   ],
   "source": [
    "\n",
    "model = RandomForestRegressor(n_estimators=100, random_state=42)\n",
    "\n",
    "scores = -cross_val_score(\n",
    "    model,\n",
    "    df[['x1', 'x2', 'x3']],\n",
    "    df['y'],\n",
    "    cv=5,\n",
    "    scoring='neg_max_error'\n",
    ")\n",
    "\n",
    "mean_error = np.mean(scores)\n",
    "print(f\"Средний max_error: {mean_error:.4f}\")"
   ]
  },
  {
   "cell_type": "code",
   "execution_count": null,
   "id": "d8b531fe",
   "metadata": {},
   "outputs": [],
   "source": [
    "from sklearn.preprocessing import StandardScaler\n",
    "\n",
    "# Масштабирование признаков\n",
    "scaler = StandardScaler()\n",
    "X_scaled = scaler.fit_transform(dataframe[['x1', 'x2', 'x3']])\n",
    "\n",
    "max_errors_scaled = abs(\n",
    "    cross_val_score(\n",
    "        LinearRegression(),\n",
    "        X_scaled,\n",
    "        dataframe['y'],\n",
    "        cv=5,\n",
    "        scoring='max_error'\n",
    "    )\n",
    ")\n",
    "\n",
    "mean_max_error_scaled = np.mean(max_errors_scaled)\n",
    "print(f\"Среднее значение max_error после масштабирования: {mean_max_error_scaled}\")"
   ]
  }
 ],
 "metadata": {
  "kernelspec": {
   "display_name": "Python 3 (ipykernel)",
   "language": "python",
   "name": "python3"
  },
  "language_info": {
   "codemirror_mode": {
    "name": "ipython",
    "version": 3
   },
   "file_extension": ".py",
   "mimetype": "text/x-python",
   "name": "python",
   "nbconvert_exporter": "python",
   "pygments_lexer": "ipython3",
   "version": "3.12.3"
  }
 },
 "nbformat": 4,
 "nbformat_minor": 5
}
